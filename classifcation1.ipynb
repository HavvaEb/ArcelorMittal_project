{
 "cells": [
  {
   "cell_type": "code",
   "execution_count": 1,
   "id": "6923ce67",
   "metadata": {},
   "outputs": [
    {
     "data": {
      "text/plain": [
       "Index(['Unnamed: 0', 'coil', 'furnace Number', 'analyse', 'Hardness_1',\n",
       "       'Hardness_2', 'Width', 'Temperature before finishing mill',\n",
       "       'Temperature after finishing mill', 'Thickness', 'Thickness profile',\n",
       "       'c', 'mn', 'si', 'nb', 'p', 's', 'al', 'ma', 'b', 'n', 'ti', 'cr', 'va',\n",
       "       'mo', 'constriction'],\n",
       "      dtype='object')"
      ]
     },
     "execution_count": 1,
     "metadata": {},
     "output_type": "execute_result"
    }
   ],
   "source": [
    "import numpy as np\n",
    "import pandas as pd\n",
    "import matplotlib.pyplot as plt\n",
    "import seaborn as sns\n",
    "\n",
    "CoilData = pd.read_csv(\"CleanCoilData1.csv\")\n",
    "CoilData.columns"
   ]
  },
  {
   "cell_type": "code",
   "execution_count": 2,
   "id": "635224e6",
   "metadata": {},
   "outputs": [],
   "source": [
    "#CoilData.corr().style.format(\"{:.4}\").background_gradient(cmap=plt.get_cmap('coolwarm'), axis=1)"
   ]
  },
  {
   "cell_type": "code",
   "execution_count": 3,
   "id": "8edc0d52",
   "metadata": {},
   "outputs": [],
   "source": [
    "#sns.pairplot(CoilData)\n",
    "#plt.show()"
   ]
  },
  {
   "cell_type": "code",
   "execution_count": 4,
   "id": "d8531bf6",
   "metadata": {},
   "outputs": [],
   "source": [
    "#sns.pairplot(CoilData, hue=\"constriction\")\n",
    "#plt.show()"
   ]
  },
  {
   "cell_type": "code",
   "execution_count": 6,
   "id": "81bafb3a",
   "metadata": {},
   "outputs": [],
   "source": [
    "everything = ['furnace Number','Hardness_1', 'Hardness_2', 'Width', 'Temperature before finishing mill','Temperature after finishing mill', 'Thickness', 'c', 'mn', 'si', 'nb', 'p', 's', 'al', 'ma', 'b', 'n', 'ti', 'cr', 'va', 'mo']\n",
    "hand_picked = ['c','mn','p','s','al','ma','b','ti','va','mo']\n",
    "hand_picked1 = ['Width','Thickness']\n",
    "X = CoilData[everything]\n",
    "y = CoilData['constriction']"
   ]
  },
  {
   "cell_type": "code",
   "execution_count": 7,
   "id": "16cd0079",
   "metadata": {},
   "outputs": [
    {
     "data": {
      "text/plain": [
       "0    51602\n",
       "1     3725\n",
       "Name: constriction, dtype: int64"
      ]
     },
     "execution_count": 7,
     "metadata": {},
     "output_type": "execute_result"
    }
   ],
   "source": [
    "y.value_counts()"
   ]
  },
  {
   "cell_type": "code",
   "execution_count": 8,
   "id": "023c3e14",
   "metadata": {},
   "outputs": [
    {
     "name": "stderr",
     "output_type": "stream",
     "text": [
      "C:\\Users\\Mahboubeh\\anaconda3\\lib\\site-packages\\seaborn\\_decorators.py:36: FutureWarning: Pass the following variable as a keyword arg: x. From version 0.12, the only valid positional argument will be `data`, and passing other arguments without an explicit keyword will result in an error or misinterpretation.\n",
      "  warnings.warn(\n"
     ]
    },
    {
     "data": {
      "image/png": "[encoded data removed]",
      "text/plain": [
       "<Figure size 432x288 with 1 Axes>"
      ]
     },
     "metadata": {
      "needs_background": "light"
     },
     "output_type": "display_data"
    }
   ],
   "source": [
    "sns.countplot(y)\n",
    "plt.show()"
   ]
  },
  {
   "cell_type": "code",
   "execution_count": 9,
   "id": "b395fd8f",
   "metadata": {},
   "outputs": [],
   "source": [
    "#UNDERSAMPLING\n",
    "from imblearn.under_sampling import RandomUnderSampler\n",
    "rus = RandomUnderSampler(random_state=0)\n",
    "X_resampled, y_resampled = rus.fit_resample(X, y)"
   ]
  },
  {
   "cell_type": "code",
   "execution_count": 10,
   "id": "503e2830",
   "metadata": {},
   "outputs": [],
   "source": [
    "#Split data\n",
    "\n",
    "from sklearn.model_selection import train_test_split\n",
    "X_train, X_test, y_train, y_test = train_test_split(X_resampled, y_resampled, test_size=0.3)"
   ]
  },
  {
   "cell_type": "code",
   "execution_count": 11,
   "id": "86ba19da",
   "metadata": {},
   "outputs": [],
   "source": [
    "#Scaling\n",
    "\n",
    "from sklearn.preprocessing import StandardScaler\n",
    "\n",
    "sc = StandardScaler()\n",
    "\n",
    "X_train = sc.fit_transform(X_train)\n",
    "X_test = sc.transform(X_test)"
   ]
  },
  {
   "cell_type": "code",
   "execution_count": 12,
   "id": "d36c58cb",
   "metadata": {},
   "outputs": [
    {
     "data": {
      "text/plain": [
       "SVC(random_state=2020)"
      ]
     },
     "execution_count": 12,
     "metadata": {},
     "output_type": "execute_result"
    }
   ],
   "source": [
    "# SVM model\n",
    "\n",
    "from sklearn.svm import SVC\n",
    "svc = SVC(random_state=2020)\n",
    "svc.fit(X_train, y_train)"
   ]
  },
  {
   "cell_type": "code",
   "execution_count": 13,
   "id": "b552dcbc",
   "metadata": {},
   "outputs": [
    {
     "name": "stdout",
     "output_type": "stream",
     "text": [
      "SVM Accuracy =  0.8031319910514542\n"
     ]
    }
   ],
   "source": [
    "from sklearn import metrics\n",
    "from sklearn.metrics import accuracy_score\n",
    "y_pred = svc.predict(X_test)\n",
    "print(\"SVM Accuracy = \" ,  metrics.accuracy_score(y_test, y_pred))"
   ]
  },
  {
   "cell_type": "code",
   "execution_count": 14,
   "id": "e63afbf3",
   "metadata": {},
   "outputs": [
    {
     "data": {
      "text/plain": [
       "DecisionTreeClassifier(random_state=2020)"
      ]
     },
     "execution_count": 14,
     "metadata": {},
     "output_type": "execute_result"
    }
   ],
   "source": [
    "# Decision Tree model\n",
    "\n",
    "from sklearn.tree import DecisionTreeClassifier\n",
    "dt = DecisionTreeClassifier(random_state=2020)\n",
    "dt.fit(X_train, y_train)"
   ]
  },
  {
   "cell_type": "code",
   "execution_count": 15,
   "id": "452b6e25",
   "metadata": {},
   "outputs": [
    {
     "name": "stdout",
     "output_type": "stream",
     "text": [
      "Decision Tree Accuracy =  0.7642058165548098\n"
     ]
    }
   ],
   "source": [
    "y_pred = dt.predict(X_test)\n",
    "print(\"Decision Tree Accuracy = \" ,metrics.accuracy_score(y_test, y_pred))"
   ]
  },
  {
   "cell_type": "code",
   "execution_count": 16,
   "id": "8c131447",
   "metadata": {},
   "outputs": [
    {
     "data": {
      "text/plain": [
       "RandomForestClassifier(max_depth=30)"
      ]
     },
     "execution_count": 16,
     "metadata": {},
     "output_type": "execute_result"
    }
   ],
   "source": [
    "#RandomForest model\n",
    "\n",
    "from sklearn.ensemble import RandomForestClassifier\n",
    "RF = RandomForestClassifier(max_depth=30)\n",
    "RF.fit(X_train,y_train)"
   ]
  },
  {
   "cell_type": "code",
   "execution_count": 17,
   "id": "6e039111",
   "metadata": {},
   "outputs": [
    {
     "name": "stdout",
     "output_type": "stream",
     "text": [
      "RandomForest  Accuracy =  0.8161073825503355\n"
     ]
    }
   ],
   "source": [
    "y_pred = RF.predict(X_test)\n",
    "print(\"RandomForest  Accuracy = \" ,metrics.accuracy_score(y_test, y_pred))"
   ]
  },
  {
   "cell_type": "code",
   "execution_count": 18,
   "id": "0047bb50",
   "metadata": {},
   "outputs": [
    {
     "name": "stdout",
     "output_type": "stream",
     "text": [
      "              precision    recall  f1-score   support\n",
      "\n",
      "           0       0.82      0.79      0.81      1094\n",
      "           1       0.81      0.84      0.82      1141\n",
      "\n",
      "    accuracy                           0.82      2235\n",
      "   macro avg       0.82      0.82      0.82      2235\n",
      "weighted avg       0.82      0.82      0.82      2235\n",
      "\n"
     ]
    },
    {
     "data": {
      "text/html": [
       "<div>\n",
       "<style scoped>\n",
       "    .dataframe tbody tr th:only-of-type {\n",
       "        vertical-align: middle;\n",
       "    }\n",
       "\n",
       "    .dataframe tbody tr th {\n",
       "        vertical-align: top;\n",
       "    }\n",
       "\n",
       "    .dataframe thead th {\n",
       "        text-align: right;\n",
       "    }\n",
       "</style>\n",
       "<table border=\"1\" class=\"dataframe\">\n",
       "  <thead>\n",
       "    <tr style=\"text-align: right;\">\n",
       "      <th>Predicted</th>\n",
       "      <th>0</th>\n",
       "      <th>1</th>\n",
       "    </tr>\n",
       "    <tr>\n",
       "      <th>Actual</th>\n",
       "      <th></th>\n",
       "      <th></th>\n",
       "    </tr>\n",
       "  </thead>\n",
       "  <tbody>\n",
       "    <tr>\n",
       "      <th>0</th>\n",
       "      <td>869</td>\n",
       "      <td>225</td>\n",
       "    </tr>\n",
       "    <tr>\n",
       "      <th>1</th>\n",
       "      <td>186</td>\n",
       "      <td>955</td>\n",
       "    </tr>\n",
       "  </tbody>\n",
       "</table>\n",
       "</div>"
      ],
      "text/plain": [
       "Predicted    0    1\n",
       "Actual             \n",
       "0          869  225\n",
       "1          186  955"
      ]
     },
     "execution_count": 18,
     "metadata": {},
     "output_type": "execute_result"
    }
   ],
   "source": [
    "# Evaluate your model\n",
    "from sklearn.metrics import classification_report\n",
    "from sklearn.metrics import confusion_matrix\n",
    "\n",
    "print(classification_report(y_test,y_pred))\n",
    "confusion_matrix(y_test,y_pred)\n",
    "pd.crosstab(y_test, y_pred, rownames = ['Actual'], colnames =['Predicted'])"
   ]
  },
  {
   "cell_type": "code",
   "execution_count": 19,
   "id": "68c8ed77",
   "metadata": {},
   "outputs": [
    {
     "name": "stderr",
     "output_type": "stream",
     "text": [
      "C:\\Users\\Mahboubeh\\anaconda3\\lib\\site-packages\\sklearn\\utils\\deprecation.py:87: FutureWarning: Function plot_confusion_matrix is deprecated; Function `plot_confusion_matrix` is deprecated in 1.0 and will be removed in 1.2. Use one of the class methods: ConfusionMatrixDisplay.from_predictions or ConfusionMatrixDisplay.from_estimator.\n",
      "  warnings.warn(msg, category=FutureWarning)\n"
     ]
    },
    {
     "data": {
      "image/png": "[encoded data removed]",
      "text/plain": [
       "<Figure size 432x288 with 2 Axes>"
      ]
     },
     "metadata": {
      "needs_background": "light"
     },
     "output_type": "display_data"
    }
   ],
   "source": [
    "metrics.plot_confusion_matrix(RF, X_test, y_test)\n",
    "plt.show()"
   ]
  },
  {
   "cell_type": "code",
   "execution_count": 20,
   "id": "a16a389a",
   "metadata": {},
   "outputs": [
    {
     "data": {
      "text/plain": [
       "<sklearn.metrics._plot.confusion_matrix.ConfusionMatrixDisplay at 0x1dbd23305e0>"
      ]
     },
     "execution_count": 20,
     "metadata": {},
     "output_type": "execute_result"
    },
    {
     "data": {
      "image/png": "[encoded data removed]",
      "text/plain": [
       "<Figure size 432x288 with 2 Axes>"
      ]
     },
     "metadata": {
      "needs_background": "light"
     },
     "output_type": "display_data"
    }
   ],
   "source": [
    "from sklearn.metrics import confusion_matrix, ConfusionMatrixDisplay\n",
    "cm=confusion_matrix(y_test, y_pred)\n",
    "cmd=ConfusionMatrixDisplay(confusion_matrix=cm, display_labels=RF.classes_)\n",
    "cmd.plot()"
   ]
  },
  {
   "cell_type": "code",
   "execution_count": 56,
   "id": "abf9a485",
   "metadata": {},
   "outputs": [
    {
     "name": "stdout",
     "output_type": "stream",
     "text": [
      "Random Forest Cross-validation Scores: [0.92454365 0.92626062 0.93258021 0.93583371 0.93881609]\n",
      "Mean: 0.9316068539671882\n",
      "Standard Deviation: 0.005463659833565544\n",
      "Accuracy: 93.16% (+/- 0.55)\n"
     ]
    }
   ],
   "source": [
    "from sklearn.model_selection import cross_val_score\n",
    "\n",
    "scores = cross_val_score(RF, X, y, cv=5) # cv is the number of folds (k)\n",
    "print(\"Random Forest Cross-validation Scores:\", scores)\n",
    "print(\"Mean:\", scores.mean())\n",
    "print(\"Standard Deviation:\", scores.std())\n",
    "\n",
    "# It is always a good practice to show the mean AND the standard deviation of the model accuracy\n",
    "print(\"Accuracy: {:.2f}% (+/- {:.2f})\".format(scores.mean() * 100, scores.std() * 100))"
   ]
  },
  {
   "cell_type": "code",
   "execution_count": 33,
   "id": "e42a7c02",
   "metadata": {},
   "outputs": [
    {
     "data": {
      "text/html": [
       "<div>\n",
       "<style scoped>\n",
       "    .dataframe tbody tr th:only-of-type {\n",
       "        vertical-align: middle;\n",
       "    }\n",
       "\n",
       "    .dataframe tbody tr th {\n",
       "        vertical-align: top;\n",
       "    }\n",
       "\n",
       "    .dataframe thead th {\n",
       "        text-align: right;\n",
       "    }\n",
       "</style>\n",
       "<table border=\"1\" class=\"dataframe\">\n",
       "  <thead>\n",
       "    <tr style=\"text-align: right;\">\n",
       "      <th></th>\n",
       "      <th>importance</th>\n",
       "    </tr>\n",
       "    <tr>\n",
       "      <th>feature</th>\n",
       "      <th></th>\n",
       "    </tr>\n",
       "  </thead>\n",
       "  <tbody>\n",
       "    <tr>\n",
       "      <th>Thickness</th>\n",
       "      <td>0.163957</td>\n",
       "    </tr>\n",
       "    <tr>\n",
       "      <th>Width</th>\n",
       "      <td>0.082794</td>\n",
       "    </tr>\n",
       "    <tr>\n",
       "      <th>mn</th>\n",
       "      <td>0.081899</td>\n",
       "    </tr>\n",
       "    <tr>\n",
       "      <th>cr</th>\n",
       "      <td>0.068839</td>\n",
       "    </tr>\n",
       "    <tr>\n",
       "      <th>c</th>\n",
       "      <td>0.065887</td>\n",
       "    </tr>\n",
       "  </tbody>\n",
       "</table>\n",
       "</div>"
      ],
      "text/plain": [
       "           importance\n",
       "feature              \n",
       "Thickness    0.163957\n",
       "Width        0.082794\n",
       "mn           0.081899\n",
       "cr           0.068839\n",
       "c            0.065887"
      ]
     },
     "execution_count": 33,
     "metadata": {},
     "output_type": "execute_result"
    }
   ],
   "source": [
    "#Feature Importance:\n",
    "imp_rf = pd.DataFrame(zip(everything, RF.feature_importances_),columns = [\"feature\", \"importance\"])\n",
    "imp_rf.set_index(\"feature\", inplace=True)\n",
    "imp_rf.sort_values(by = \"importance\", ascending = False, inplace = True)\n",
    "imp_rf.head()\n"
   ]
  },
  {
   "cell_type": "code",
   "execution_count": 21,
   "id": "63ab169f",
   "metadata": {},
   "outputs": [
    {
     "name": "stdout",
     "output_type": "stream",
     "text": [
      "Feature: 0, Score: 0.00983\n",
      "Feature: 1, Score: 0.04520\n",
      "Feature: 2, Score: 0.04211\n",
      "Feature: 3, Score: 0.08279\n",
      "Feature: 4, Score: 0.03742\n",
      "Feature: 5, Score: 0.04664\n",
      "Feature: 6, Score: 0.16396\n",
      "Feature: 7, Score: 0.06589\n",
      "Feature: 8, Score: 0.08190\n",
      "Feature: 9, Score: 0.06265\n",
      "Feature: 10, Score: 0.03572\n",
      "Feature: 11, Score: 0.03232\n",
      "Feature: 12, Score: 0.03908\n",
      "Feature: 13, Score: 0.02948\n",
      "Feature: 14, Score: 0.02897\n",
      "Feature: 15, Score: 0.01640\n",
      "Feature: 16, Score: 0.03044\n",
      "Feature: 17, Score: 0.03500\n",
      "Feature: 18, Score: 0.06884\n",
      "Feature: 19, Score: 0.02093\n",
      "Feature: 20, Score: 0.02443\n"
     ]
    },
    {
     "data": {
      "image/png": "[encoded data removed]",
      "text/plain": [
       "<Figure size 432x288 with 1 Axes>"
      ]
     },
     "metadata": {
      "needs_background": "light"
     },
     "output_type": "display_data"
    }
   ],
   "source": [
    "# get importance\n",
    "importance = RF.feature_importances_\n",
    "# summarize feature importance\n",
    "for i,v in enumerate(importance):\n",
    "    print('Feature: %0d, Score: %.5f' % (i,v))\n",
    "# plot feature importance\n",
    "from matplotlib import pyplot\n",
    "pyplot.bar([x for x in range(len(importance))], importance)\n",
    "pyplot.show()"
   ]
  },
  {
   "cell_type": "code",
   "execution_count": 39,
   "id": "d98b05e3",
   "metadata": {},
   "outputs": [
    {
     "name": "stdout",
     "output_type": "stream",
     "text": [
      "Thickness                            0.163957\n",
      "Width                                0.082794\n",
      "mn                                   0.081899\n",
      "cr                                   0.068839\n",
      "c                                    0.065887\n",
      "si                                   0.062645\n",
      "Temperature after finishing mill     0.046639\n",
      "Hardness_1                           0.045196\n",
      "Hardness_2                           0.042114\n",
      "s                                    0.039081\n",
      "Temperature before finishing mill    0.037422\n",
      "nb                                   0.035719\n",
      "ti                                   0.035002\n",
      "p                                    0.032325\n",
      "n                                    0.030443\n",
      "al                                   0.029483\n",
      "ma                                   0.028965\n",
      "mo                                   0.024431\n",
      "va                                   0.020927\n",
      "b                                    0.016398\n",
      "furnace Number                       0.009834\n",
      "dtype: float64\n"
     ]
    }
   ],
   "source": [
    "# view the feature scores\n",
    "feature_scores = pd.Series(RF.feature_importances_, index=everything).sort_values(ascending=False)\n",
    "print(feature_scores)"
   ]
  },
  {
   "cell_type": "code",
   "execution_count": 48,
   "id": "74887cab",
   "metadata": {},
   "outputs": [],
   "source": [
    "hand_picked = ['Width','Thickness',\"mn\",\"cr\", \"c\",\"si\"]\n",
    "X = CoilData[hand_picked]\n",
    "y = CoilData['constriction']"
   ]
  },
  {
   "cell_type": "code",
   "execution_count": 49,
   "id": "f7656764",
   "metadata": {},
   "outputs": [],
   "source": [
    "#UNDERSAMPLING\n",
    "from imblearn.under_sampling import RandomUnderSampler\n",
    "rus = RandomUnderSampler(random_state=0)\n",
    "X_resampled, y_resampled = rus.fit_resample(X, y)"
   ]
  },
  {
   "cell_type": "code",
   "execution_count": 50,
   "id": "9839a1b0",
   "metadata": {},
   "outputs": [],
   "source": [
    "#Split data\n",
    "\n",
    "from sklearn.model_selection import train_test_split\n",
    "X_train, X_test, y_train, y_test = train_test_split(X_resampled, y_resampled, test_size=0.3)"
   ]
  },
  {
   "cell_type": "code",
   "execution_count": 52,
   "id": "197d533d",
   "metadata": {},
   "outputs": [],
   "source": [
    "#Scaling\n",
    "\n",
    "from sklearn.preprocessing import StandardScaler\n",
    "\n",
    "sc = StandardScaler()\n",
    "\n",
    "X_train = sc.fit_transform(X_train)\n",
    "X_test = sc.transform(X_test)"
   ]
  },
  {
   "cell_type": "code",
   "execution_count": 81,
   "id": "4e7024b2",
   "metadata": {},
   "outputs": [
    {
     "data": {
      "text/plain": [
       "RandomForestClassifier(criterion='entropy', max_depth=30, random_state=0)"
      ]
     },
     "execution_count": 81,
     "metadata": {},
     "output_type": "execute_result"
    }
   ],
   "source": [
    "#RandomForest model\n",
    "\n",
    "from sklearn.ensemble import RandomForestClassifier\n",
    "RF = RandomForestClassifier(max_depth=30, random_state=0, criterion=\"entropy\")\n",
    "RF.fit(X_train,y_train)"
   ]
  },
  {
   "cell_type": "code",
   "execution_count": 82,
   "id": "16296451",
   "metadata": {},
   "outputs": [
    {
     "name": "stdout",
     "output_type": "stream",
     "text": [
      "RandomForest  Accuracy =  0.8237136465324385\n"
     ]
    }
   ],
   "source": [
    "y_pred = RF.predict(X_test)\n",
    "print(\"RandomForest  Accuracy = \" ,metrics.accuracy_score(y_test, y_pred))"
   ]
  },
  {
   "cell_type": "code",
   "execution_count": 83,
   "id": "46da76a8",
   "metadata": {},
   "outputs": [
    {
     "name": "stdout",
     "output_type": "stream",
     "text": [
      "              precision    recall  f1-score   support\n",
      "\n",
      "           0       0.84      0.79      0.82      1112\n",
      "           1       0.81      0.86      0.83      1123\n",
      "\n",
      "    accuracy                           0.82      2235\n",
      "   macro avg       0.83      0.82      0.82      2235\n",
      "weighted avg       0.82      0.82      0.82      2235\n",
      "\n"
     ]
    },
    {
     "data": {
      "text/html": [
       "<div>\n",
       "<style scoped>\n",
       "    .dataframe tbody tr th:only-of-type {\n",
       "        vertical-align: middle;\n",
       "    }\n",
       "\n",
       "    .dataframe tbody tr th {\n",
       "        vertical-align: top;\n",
       "    }\n",
       "\n",
       "    .dataframe thead th {\n",
       "        text-align: right;\n",
       "    }\n",
       "</style>\n",
       "<table border=\"1\" class=\"dataframe\">\n",
       "  <thead>\n",
       "    <tr style=\"text-align: right;\">\n",
       "      <th>Predicted</th>\n",
       "      <th>0</th>\n",
       "      <th>1</th>\n",
       "    </tr>\n",
       "    <tr>\n",
       "      <th>Actual</th>\n",
       "      <th></th>\n",
       "      <th></th>\n",
       "    </tr>\n",
       "  </thead>\n",
       "  <tbody>\n",
       "    <tr>\n",
       "      <th>0</th>\n",
       "      <td>880</td>\n",
       "      <td>232</td>\n",
       "    </tr>\n",
       "    <tr>\n",
       "      <th>1</th>\n",
       "      <td>162</td>\n",
       "      <td>961</td>\n",
       "    </tr>\n",
       "  </tbody>\n",
       "</table>\n",
       "</div>"
      ],
      "text/plain": [
       "Predicted    0    1\n",
       "Actual             \n",
       "0          880  232\n",
       "1          162  961"
      ]
     },
     "execution_count": 83,
     "metadata": {},
     "output_type": "execute_result"
    }
   ],
   "source": [
    "# Evaluate your model\n",
    "from sklearn.metrics import classification_report\n",
    "from sklearn.metrics import confusion_matrix\n",
    "\n",
    "print(classification_report(y_test,y_pred))\n",
    "confusion_matrix(y_test,y_pred)\n",
    "pd.crosstab(y_test, y_pred, rownames = ['Actual'], colnames =['Predicted'])"
   ]
  },
  {
   "cell_type": "code",
   "execution_count": 84,
   "id": "951bd3c0",
   "metadata": {},
   "outputs": [
    {
     "data": {
      "text/plain": [
       "0.8235552252765908"
      ]
     },
     "execution_count": 84,
     "metadata": {},
     "output_type": "execute_result"
    }
   ],
   "source": [
    "from sklearn.metrics import roc_auc_score\n",
    "\n",
    "roc_auc_score(y_test, y_pred)"
   ]
  },
  {
   "cell_type": "code",
   "execution_count": 85,
   "id": "1f77495d",
   "metadata": {},
   "outputs": [],
   "source": [
    "# Getting the probabilities of our predictions\n",
    "y_scores = RF.predict_proba(X_train)\n",
    "y_scores = y_scores[:,1]\n",
    "\n",
    "# Calculate False Positive and True Positive\n",
    "from sklearn.metrics import roc_curve\n",
    "false_positive_rate, true_positive_rate, thresholds = roc_curve(y_train, y_scores)"
   ]
  },
  {
   "cell_type": "code",
   "execution_count": 86,
   "id": "6fa1b717",
   "metadata": {},
   "outputs": [
    {
     "data": {
      "text/plain": [
       "array([2.        , 1.        , 0.99969697, 0.99      , 0.98875357,\n",
       "       0.98869565, 0.98767442, 0.98166667, 0.98      , 0.97875357,\n",
       "       0.97869565, 0.97695652, 0.97      , 0.9690566 , 0.96869565,\n",
       "       0.96786468, 0.96767442, 0.96714286, 0.965     , 0.96      ,\n",
       "       0.95911111, 0.95875   , 0.95869565, 0.95786468, 0.95767442,\n",
       "       0.95178553, 0.95      , 0.94911111, 0.94875357, 0.94869565,\n",
       "       0.94470588, 0.94362319, 0.94215652, 0.94      , 0.93882353,\n",
       "       0.93833333, 0.93767442, 0.93214769, 0.93      , 0.92767442,\n",
       "       0.92733333, 0.92703704, 0.9252    , 0.92077778, 0.92      ,\n",
       "       0.91882353, 0.91733333, 0.91703704, 0.91695652, 0.91469697,\n",
       "       0.91461538, 0.91029013, 0.91      , 0.90911111, 0.90869565,\n",
       "       0.90767442, 0.90703704, 0.90695652, 0.90471146, 0.9       ,\n",
       "       0.89923102, 0.89911111, 0.89233333, 0.89      , 0.88833333,\n",
       "       0.88767442, 0.88695652, 0.885     , 0.88142857, 0.88      ,\n",
       "       0.87869565, 0.87767442, 0.87075556, 0.87      , 0.8602    ,\n",
       "       0.86      , 0.85055556, 0.85      , 0.84142857, 0.84      ,\n",
       "       0.83055556, 0.83      , 0.82055556, 0.82      , 0.814     ,\n",
       "       0.81      , 0.8090566 , 0.80703704, 0.80327778, 0.8       ,\n",
       "       0.79696249, 0.79      , 0.785     , 0.78      , 0.7725    ,\n",
       "       0.77      , 0.76      , 0.7542566 , 0.75      , 0.74666667,\n",
       "       0.74      , 0.735     , 0.73      , 0.72698553, 0.72      ,\n",
       "       0.71833333, 0.71      , 0.7       , 0.69      , 0.68      ,\n",
       "       0.67      , 0.66      , 0.65      , 0.64      , 0.63      ,\n",
       "       0.62      , 0.6       , 0.59      , 0.58      , 0.53      ,\n",
       "       0.44666667, 0.44      , 0.43470588, 0.42      , 0.41922619,\n",
       "       0.4       , 0.39869565, 0.39      , 0.38      , 0.37      ,\n",
       "       0.36287442, 0.36      , 0.35071429, 0.35      , 0.34461538,\n",
       "       0.34      , 0.332     , 0.33      , 0.32222222, 0.32      ,\n",
       "       0.31470588, 0.31      , 0.30071429, 0.3       , 0.29017442,\n",
       "       0.29      , 0.28775132, 0.2852    , 0.2802    , 0.28      ,\n",
       "       0.27159664, 0.27      , 0.26157191, 0.26      , 0.2525    ,\n",
       "       0.25      , 0.24098291, 0.24      , 0.23461538, 0.23      ,\n",
       "       0.2222898 , 0.22      , 0.215     , 0.21      , 0.205     ,\n",
       "       0.2       , 0.19588235, 0.19      , 0.18571429, 0.18      ,\n",
       "       0.17666667, 0.17      , 0.16714286, 0.16      , 0.155     ,\n",
       "       0.15      , 0.14703704, 0.14      , 0.13142857, 0.13      ,\n",
       "       0.12767442, 0.12      , 0.11088235, 0.11      , 0.1       ,\n",
       "       0.09      , 0.08      , 0.07      , 0.06142857, 0.06      ,\n",
       "       0.05142857, 0.05      , 0.04      , 0.03882353, 0.03      ,\n",
       "       0.02      , 0.01      , 0.        ])"
      ]
     },
     "execution_count": 86,
     "metadata": {},
     "output_type": "execute_result"
    }
   ],
   "source": [
    "thresholds"
   ]
  },
  {
   "cell_type": "code",
   "execution_count": 87,
   "id": "bce605bd",
   "metadata": {},
   "outputs": [
    {
     "name": "stdout",
     "output_type": "stream",
     "text": [
      "roc_auc_score : 0.8155193565539376\n",
      "              precision    recall  f1-score   support\n",
      "\n",
      "           0       0.91      0.70      0.79      1112\n",
      "           1       0.76      0.93      0.84      1123\n",
      "\n",
      "    accuracy                           0.82      2235\n",
      "   macro avg       0.84      0.82      0.81      2235\n",
      "weighted avg       0.83      0.82      0.81      2235\n",
      "\n"
     ]
    },
    {
     "data": {
      "text/html": [
       "<div>\n",
       "<style scoped>\n",
       "    .dataframe tbody tr th:only-of-type {\n",
       "        vertical-align: middle;\n",
       "    }\n",
       "\n",
       "    .dataframe tbody tr th {\n",
       "        vertical-align: top;\n",
       "    }\n",
       "\n",
       "    .dataframe thead th {\n",
       "        text-align: right;\n",
       "    }\n",
       "</style>\n",
       "<table border=\"1\" class=\"dataframe\">\n",
       "  <thead>\n",
       "    <tr style=\"text-align: right;\">\n",
       "      <th>Predicted</th>\n",
       "      <th>0</th>\n",
       "      <th>1</th>\n",
       "    </tr>\n",
       "    <tr>\n",
       "      <th>Actual</th>\n",
       "      <th></th>\n",
       "      <th></th>\n",
       "    </tr>\n",
       "  </thead>\n",
       "  <tbody>\n",
       "    <tr>\n",
       "      <th>0</th>\n",
       "      <td>774</td>\n",
       "      <td>338</td>\n",
       "    </tr>\n",
       "    <tr>\n",
       "      <th>1</th>\n",
       "      <td>73</td>\n",
       "      <td>1050</td>\n",
       "    </tr>\n",
       "  </tbody>\n",
       "</table>\n",
       "</div>"
      ],
      "text/plain": [
       "Predicted    0     1\n",
       "Actual              \n",
       "0          774   338\n",
       "1           73  1050"
      ]
     },
     "execution_count": 87,
     "metadata": {},
     "output_type": "execute_result"
    }
   ],
   "source": [
    "# set threshold to 0.15\n",
    "\n",
    "threshold = 0.3\n",
    "\n",
    "from sklearn.preprocessing import binarize\n",
    "\n",
    "y_pred_prob = RF.predict_proba(X_test)[:,1]\n",
    "y_pred_prob = y_pred_prob.reshape(1,-1)\n",
    "\n",
    "y_pred_class = binarize(y_pred_prob,threshold=threshold)[0]\n",
    "\n",
    "y_pred_class = y_pred_class.astype('int')\n",
    "\n",
    "print(f'roc_auc_score : {roc_auc_score(y_test, y_pred_class)}')\n",
    "\n",
    "print(classification_report(y_test,y_pred_class))\n",
    "confusion_matrix(y_test,y_pred_class)\n",
    "pd.crosstab(y_test, y_pred_class, rownames = ['Actual'], colnames =['Predicted'])"
   ]
  },
  {
   "cell_type": "code",
   "execution_count": 89,
   "id": "7d1726a9",
   "metadata": {},
   "outputs": [
    {
     "name": "stdout",
     "output_type": "stream",
     "text": [
      "Random Forest Cross-validation Scores: [0.92526658 0.92607988 0.93258021 0.93583371 0.93926796]\n",
      "Mean: 0.9318056692911585\n",
      "Standard Deviation: 0.005441600977615043\n",
      "Accuracy: 93.18% (+/- 0.54)\n"
     ]
    }
   ],
   "source": [
    "from sklearn.model_selection import cross_val_score\n",
    "\n",
    "scores = cross_val_score(RF, X, y, cv=5) # cv is the number of folds (k)\n",
    "print(\"Random Forest Cross-validation Scores:\", scores)\n",
    "print(\"Mean:\", scores.mean())\n",
    "print(\"Standard Deviation:\", scores.std())\n",
    "\n",
    "# It is always a good practice to show the mean AND the standard deviation of the model accuracy\n",
    "print(\"Accuracy: {:.2f}% (+/- {:.2f})\".format(scores.mean() * 100, scores.std() * 100))"
   ]
  },
  {
   "cell_type": "code",
   "execution_count": 91,
   "id": "c4596c60",
   "metadata": {},
   "outputs": [
    {
     "data": {
      "image/png": "[encoded data removed]",
      "text/plain": [
       "<Figure size 1080x720 with 1 Axes>"
      ]
     },
     "metadata": {
      "needs_background": "light"
     },
     "output_type": "display_data"
    }
   ],
   "source": [
    "def draw_roc_curve(y_pred_prob):\n",
    "    fpr, tpr, thresholds = roc_curve(y_true=y_test, y_score=y_pred_prob)\n",
    "    plt.subplots(figsize=(15,10))\n",
    "    plt.plot([0, 1], [0, 1], 'k--')\n",
    "    plt.plot(fpr, tpr, label='Random Forest Classifier')\n",
    "    plt.xlabel('False Positive Rate')\n",
    "    plt.ylabel('True Positive Rate')\n",
    "    plt.title('Random Forest Classifier ROC Curve')\n",
    "    plt.show()\n",
    "    \n",
    "y_pred_prob = RF.predict_proba(X_test)[:,1]\n",
    "draw_roc_curve(y_pred_prob)   "
   ]
  },
  {
   "cell_type": "code",
   "execution_count": null,
   "id": "ce0185f6",
   "metadata": {},
   "outputs": [],
   "source": []
  }
 ],
 "metadata": {
  "kernelspec": {
   "display_name": "Python 3",
   "language": "python",
   "name": "python3"
  },
  "language_info": {
   "codemirror_mode": {
    "name": "ipython",
    "version": 3
   },
   "file_extension": ".py",
   "mimetype": "text/x-python",
   "name": "python",
   "nbconvert_exporter": "python",
   "pygments_lexer": "ipython3",
   "version": "3.8.8"
  }
 },
 "nbformat": 4,
 "nbformat_minor": 5
}
