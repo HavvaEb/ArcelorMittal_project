{
 "cells": [
  {
   "cell_type": "code",
   "execution_count": 24,
   "metadata": {},
   "outputs": [
    {
     "data": {
      "text/html": [
       "<div>\n",
       "<style scoped>\n",
       "    .dataframe tbody tr th:only-of-type {\n",
       "        vertical-align: middle;\n",
       "    }\n",
       "\n",
       "    .dataframe tbody tr th {\n",
       "        vertical-align: top;\n",
       "    }\n",
       "\n",
       "    .dataframe thead th {\n",
       "        text-align: right;\n",
       "    }\n",
       "</style>\n",
       "<table border=\"1\" class=\"dataframe\">\n",
       "  <thead>\n",
       "    <tr style=\"text-align: right;\">\n",
       "      <th></th>\n",
       "      <th>Unnamed: 0</th>\n",
       "      <th>label</th>\n",
       "      <th>score</th>\n",
       "    </tr>\n",
       "  </thead>\n",
       "  <tbody>\n",
       "    <tr>\n",
       "      <th>0</th>\n",
       "      <td>0</td>\n",
       "      <td>0</td>\n",
       "      <td>0.0</td>\n",
       "    </tr>\n",
       "    <tr>\n",
       "      <th>1</th>\n",
       "      <td>1</td>\n",
       "      <td>0</td>\n",
       "      <td>0.0</td>\n",
       "    </tr>\n",
       "    <tr>\n",
       "      <th>2</th>\n",
       "      <td>2</td>\n",
       "      <td>0</td>\n",
       "      <td>0.0</td>\n",
       "    </tr>\n",
       "    <tr>\n",
       "      <th>3</th>\n",
       "      <td>3</td>\n",
       "      <td>0</td>\n",
       "      <td>0.0</td>\n",
       "    </tr>\n",
       "    <tr>\n",
       "      <th>4</th>\n",
       "      <td>4</td>\n",
       "      <td>0</td>\n",
       "      <td>0.0</td>\n",
       "    </tr>\n",
       "  </tbody>\n",
       "</table>\n",
       "</div>"
      ],
      "text/plain": [
       "   Unnamed: 0  label  score\n",
       "0           0      0    0.0\n",
       "1           1      0    0.0\n",
       "2           2      0    0.0\n",
       "3           3      0    0.0\n",
       "4           4      0    0.0"
      ]
     },
     "execution_count": 24,
     "metadata": {},
     "output_type": "execute_result"
    }
   ],
   "source": [
    "#Upload data & research data frame\n",
    "import pandas as pd\n",
    "import numpy as np\n",
    "import warnings\n",
    "warnings.filterwarnings('ignore')\n",
    "\n",
    "path = r'F:\\tstsaeed\\ArcelorMittal_project\\CoilData_cleaned.csv'\n",
    "df1 = pd.read_csv(path)\n",
    "path = r'F:\\tstsaeed\\ArcelorMittal_project\\signal_labels_TR4_new.csv'\n",
    "df2 = pd.read_csv(path)\n",
    "\n",
    "df2.head()"
   ]
  },
  {
   "cell_type": "code",
   "execution_count": 23,
   "metadata": {},
   "outputs": [],
   "source": [
    "#path = r'F:\\tstsaeed\\ArcelorMittal_project\\CoilData.csv'\n",
    "#df= pd.read_csv(path)\n",
    "#df.head(70)"
   ]
  },
  {
   "cell_type": "code",
   "execution_count": 22,
   "metadata": {},
   "outputs": [
    {
     "name": "stdout",
     "output_type": "stream",
     "text": [
      "(55769, 3)\n",
      "(55769, 25)\n"
     ]
    }
   ],
   "source": [
    "print(df2.shape)\n",
    "print(df1.shape)"
   ]
  },
  {
   "cell_type": "code",
   "execution_count": 21,
   "metadata": {},
   "outputs": [
    {
     "data": {
      "text/html": [
       "<div>\n",
       "<style scoped>\n",
       "    .dataframe tbody tr th:only-of-type {\n",
       "        vertical-align: middle;\n",
       "    }\n",
       "\n",
       "    .dataframe tbody tr th {\n",
       "        vertical-align: top;\n",
       "    }\n",
       "\n",
       "    .dataframe thead th {\n",
       "        text-align: right;\n",
       "    }\n",
       "</style>\n",
       "<table border=\"1\" class=\"dataframe\">\n",
       "  <thead>\n",
       "    <tr style=\"text-align: right;\">\n",
       "      <th></th>\n",
       "      <th>Unnamed: 0</th>\n",
       "      <th>coil</th>\n",
       "      <th>furnace Number</th>\n",
       "      <th>Hardness_1</th>\n",
       "      <th>Hardness_2</th>\n",
       "      <th>Width</th>\n",
       "      <th>Temperature before finishing mill</th>\n",
       "      <th>Temperature after finishing mill</th>\n",
       "      <th>Thickness</th>\n",
       "      <th>c</th>\n",
       "      <th>...</th>\n",
       "      <th>p</th>\n",
       "      <th>s</th>\n",
       "      <th>al</th>\n",
       "      <th>ma</th>\n",
       "      <th>b</th>\n",
       "      <th>n</th>\n",
       "      <th>ti</th>\n",
       "      <th>cr</th>\n",
       "      <th>va</th>\n",
       "      <th>mo</th>\n",
       "    </tr>\n",
       "  </thead>\n",
       "  <tbody>\n",
       "    <tr>\n",
       "      <th>count</th>\n",
       "      <td>55769.000000</td>\n",
       "      <td>55769.000000</td>\n",
       "      <td>55769.000000</td>\n",
       "      <td>55769.000000</td>\n",
       "      <td>55769.000000</td>\n",
       "      <td>55769.000000</td>\n",
       "      <td>55769.000000</td>\n",
       "      <td>55769.000000</td>\n",
       "      <td>55769.000000</td>\n",
       "      <td>55769.000000</td>\n",
       "      <td>...</td>\n",
       "      <td>55769.000000</td>\n",
       "      <td>55769.000000</td>\n",
       "      <td>55769.000000</td>\n",
       "      <td>55769.000000</td>\n",
       "      <td>55769.000000</td>\n",
       "      <td>55769.000000</td>\n",
       "      <td>55769.000000</td>\n",
       "      <td>55769.000000</td>\n",
       "      <td>55769.000000</td>\n",
       "      <td>55769.000000</td>\n",
       "    </tr>\n",
       "    <tr>\n",
       "      <th>mean</th>\n",
       "      <td>28166.078538</td>\n",
       "      <td>424478.742545</td>\n",
       "      <td>2.368377</td>\n",
       "      <td>11166.995517</td>\n",
       "      <td>110.912622</td>\n",
       "      <td>1260.795862</td>\n",
       "      <td>1165.945113</td>\n",
       "      <td>903.501479</td>\n",
       "      <td>3.562515</td>\n",
       "      <td>554.015044</td>\n",
       "      <td>...</td>\n",
       "      <td>151.160125</td>\n",
       "      <td>80.114454</td>\n",
       "      <td>450.458212</td>\n",
       "      <td>435.582851</td>\n",
       "      <td>2.547867</td>\n",
       "      <td>37.615880</td>\n",
       "      <td>135.971759</td>\n",
       "      <td>562.133390</td>\n",
       "      <td>10.866198</td>\n",
       "      <td>44.040363</td>\n",
       "    </tr>\n",
       "    <tr>\n",
       "      <th>std</th>\n",
       "      <td>16363.103129</td>\n",
       "      <td>133313.812642</td>\n",
       "      <td>1.283971</td>\n",
       "      <td>1347.607216</td>\n",
       "      <td>16.743420</td>\n",
       "      <td>290.396810</td>\n",
       "      <td>77.429980</td>\n",
       "      <td>96.160463</td>\n",
       "      <td>1.081599</td>\n",
       "      <td>424.646710</td>\n",
       "      <td>...</td>\n",
       "      <td>116.408660</td>\n",
       "      <td>43.149272</td>\n",
       "      <td>445.484851</td>\n",
       "      <td>437.618650</td>\n",
       "      <td>5.123483</td>\n",
       "      <td>12.397366</td>\n",
       "      <td>217.970218</td>\n",
       "      <td>950.622743</td>\n",
       "      <td>15.866060</td>\n",
       "      <td>145.346782</td>\n",
       "    </tr>\n",
       "    <tr>\n",
       "      <th>min</th>\n",
       "      <td>0.000000</td>\n",
       "      <td>10058.000000</td>\n",
       "      <td>1.000000</td>\n",
       "      <td>0.000000</td>\n",
       "      <td>0.000000</td>\n",
       "      <td>0.000000</td>\n",
       "      <td>0.000000</td>\n",
       "      <td>0.000000</td>\n",
       "      <td>0.000000</td>\n",
       "      <td>0.000000</td>\n",
       "      <td>...</td>\n",
       "      <td>0.000000</td>\n",
       "      <td>0.000000</td>\n",
       "      <td>0.000000</td>\n",
       "      <td>0.000000</td>\n",
       "      <td>0.000000</td>\n",
       "      <td>0.000000</td>\n",
       "      <td>0.000000</td>\n",
       "      <td>0.000000</td>\n",
       "      <td>0.000000</td>\n",
       "      <td>0.000000</td>\n",
       "    </tr>\n",
       "    <tr>\n",
       "      <th>25%</th>\n",
       "      <td>14013.000000</td>\n",
       "      <td>420933.000000</td>\n",
       "      <td>1.000000</td>\n",
       "      <td>10119.000000</td>\n",
       "      <td>99.000000</td>\n",
       "      <td>1092.900000</td>\n",
       "      <td>1155.000000</td>\n",
       "      <td>900.000000</td>\n",
       "      <td>2.820000</td>\n",
       "      <td>353.000000</td>\n",
       "      <td>...</td>\n",
       "      <td>96.000000</td>\n",
       "      <td>48.000000</td>\n",
       "      <td>321.000000</td>\n",
       "      <td>308.000000</td>\n",
       "      <td>1.000000</td>\n",
       "      <td>28.000000</td>\n",
       "      <td>9.000000</td>\n",
       "      <td>205.000000</td>\n",
       "      <td>0.000000</td>\n",
       "      <td>15.000000</td>\n",
       "    </tr>\n",
       "    <tr>\n",
       "      <th>50%</th>\n",
       "      <td>28056.000000</td>\n",
       "      <td>454968.000000</td>\n",
       "      <td>3.000000</td>\n",
       "      <td>10507.000000</td>\n",
       "      <td>104.000000</td>\n",
       "      <td>1271.000000</td>\n",
       "      <td>1172.000000</td>\n",
       "      <td>916.000000</td>\n",
       "      <td>3.660000</td>\n",
       "      <td>491.000000</td>\n",
       "      <td>...</td>\n",
       "      <td>126.000000</td>\n",
       "      <td>84.000000</td>\n",
       "      <td>368.000000</td>\n",
       "      <td>353.000000</td>\n",
       "      <td>1.000000</td>\n",
       "      <td>37.000000</td>\n",
       "      <td>15.000000</td>\n",
       "      <td>250.000000</td>\n",
       "      <td>2.000000</td>\n",
       "      <td>20.000000</td>\n",
       "    </tr>\n",
       "    <tr>\n",
       "      <th>75%</th>\n",
       "      <td>42207.000000</td>\n",
       "      <td>492598.000000</td>\n",
       "      <td>4.000000</td>\n",
       "      <td>12150.000000</td>\n",
       "      <td>123.000000</td>\n",
       "      <td>1428.600000</td>\n",
       "      <td>1188.000000</td>\n",
       "      <td>928.000000</td>\n",
       "      <td>4.150000</td>\n",
       "      <td>712.000000</td>\n",
       "      <td>...</td>\n",
       "      <td>152.000000</td>\n",
       "      <td>109.000000</td>\n",
       "      <td>453.000000</td>\n",
       "      <td>437.000000</td>\n",
       "      <td>2.000000</td>\n",
       "      <td>46.000000</td>\n",
       "      <td>174.000000</td>\n",
       "      <td>308.000000</td>\n",
       "      <td>18.000000</td>\n",
       "      <td>27.000000</td>\n",
       "    </tr>\n",
       "    <tr>\n",
       "      <th>max</th>\n",
       "      <td>56898.000000</td>\n",
       "      <td>533505.000000</td>\n",
       "      <td>4.000000</td>\n",
       "      <td>17362.000000</td>\n",
       "      <td>168.000000</td>\n",
       "      <td>1913.800000</td>\n",
       "      <td>1288.000000</td>\n",
       "      <td>981.000000</td>\n",
       "      <td>8.070000</td>\n",
       "      <td>2409.000000</td>\n",
       "      <td>...</td>\n",
       "      <td>840.000000</td>\n",
       "      <td>289.000000</td>\n",
       "      <td>5986.000000</td>\n",
       "      <td>5881.000000</td>\n",
       "      <td>39.000000</td>\n",
       "      <td>115.000000</td>\n",
       "      <td>1249.000000</td>\n",
       "      <td>6880.000000</td>\n",
       "      <td>150.000000</td>\n",
       "      <td>1200.000000</td>\n",
       "    </tr>\n",
       "  </tbody>\n",
       "</table>\n",
       "<p>8 rows × 23 columns</p>\n",
       "</div>"
      ],
      "text/plain": [
       "         Unnamed: 0           coil  furnace Number    Hardness_1  \\\n",
       "count  55769.000000   55769.000000    55769.000000  55769.000000   \n",
       "mean   28166.078538  424478.742545        2.368377  11166.995517   \n",
       "std    16363.103129  133313.812642        1.283971   1347.607216   \n",
       "min        0.000000   10058.000000        1.000000      0.000000   \n",
       "25%    14013.000000  420933.000000        1.000000  10119.000000   \n",
       "50%    28056.000000  454968.000000        3.000000  10507.000000   \n",
       "75%    42207.000000  492598.000000        4.000000  12150.000000   \n",
       "max    56898.000000  533505.000000        4.000000  17362.000000   \n",
       "\n",
       "         Hardness_2         Width  Temperature before finishing mill  \\\n",
       "count  55769.000000  55769.000000                       55769.000000   \n",
       "mean     110.912622   1260.795862                        1165.945113   \n",
       "std       16.743420    290.396810                          77.429980   \n",
       "min        0.000000      0.000000                           0.000000   \n",
       "25%       99.000000   1092.900000                        1155.000000   \n",
       "50%      104.000000   1271.000000                        1172.000000   \n",
       "75%      123.000000   1428.600000                        1188.000000   \n",
       "max      168.000000   1913.800000                        1288.000000   \n",
       "\n",
       "       Temperature after finishing mill     Thickness             c  ...  \\\n",
       "count                      55769.000000  55769.000000  55769.000000  ...   \n",
       "mean                         903.501479      3.562515    554.015044  ...   \n",
       "std                           96.160463      1.081599    424.646710  ...   \n",
       "min                            0.000000      0.000000      0.000000  ...   \n",
       "25%                          900.000000      2.820000    353.000000  ...   \n",
       "50%                          916.000000      3.660000    491.000000  ...   \n",
       "75%                          928.000000      4.150000    712.000000  ...   \n",
       "max                          981.000000      8.070000   2409.000000  ...   \n",
       "\n",
       "                  p             s            al            ma             b  \\\n",
       "count  55769.000000  55769.000000  55769.000000  55769.000000  55769.000000   \n",
       "mean     151.160125     80.114454    450.458212    435.582851      2.547867   \n",
       "std      116.408660     43.149272    445.484851    437.618650      5.123483   \n",
       "min        0.000000      0.000000      0.000000      0.000000      0.000000   \n",
       "25%       96.000000     48.000000    321.000000    308.000000      1.000000   \n",
       "50%      126.000000     84.000000    368.000000    353.000000      1.000000   \n",
       "75%      152.000000    109.000000    453.000000    437.000000      2.000000   \n",
       "max      840.000000    289.000000   5986.000000   5881.000000     39.000000   \n",
       "\n",
       "                  n            ti            cr            va            mo  \n",
       "count  55769.000000  55769.000000  55769.000000  55769.000000  55769.000000  \n",
       "mean      37.615880    135.971759    562.133390     10.866198     44.040363  \n",
       "std       12.397366    217.970218    950.622743     15.866060    145.346782  \n",
       "min        0.000000      0.000000      0.000000      0.000000      0.000000  \n",
       "25%       28.000000      9.000000    205.000000      0.000000     15.000000  \n",
       "50%       37.000000     15.000000    250.000000      2.000000     20.000000  \n",
       "75%       46.000000    174.000000    308.000000     18.000000     27.000000  \n",
       "max      115.000000   1249.000000   6880.000000    150.000000   1200.000000  \n",
       "\n",
       "[8 rows x 23 columns]"
      ]
     },
     "execution_count": 21,
     "metadata": {},
     "output_type": "execute_result"
    }
   ],
   "source": [
    "# main statistics information about each columns\n",
    "df1.describe()"
   ]
  },
  {
   "cell_type": "code",
   "execution_count": 25,
   "metadata": {},
   "outputs": [
    {
     "name": "stdout",
     "output_type": "stream",
     "text": [
      "Unnamed: 0                             0\n",
      "coil                                   0\n",
      "furnace Number                         0\n",
      "analyse                                0\n",
      "Hardness_1                             0\n",
      "Hardness_2                             0\n",
      "Width                                  0\n",
      "Temperature before finishing mill      0\n",
      "Temperature after finishing mill       0\n",
      "Thickness                              0\n",
      "Thickness profile                    438\n",
      "c                                      0\n",
      "mn                                     0\n",
      "si                                     0\n",
      "nb                                     0\n",
      "p                                      0\n",
      "s                                      0\n",
      "al                                     0\n",
      "ma                                     0\n",
      "b                                      0\n",
      "n                                      0\n",
      "ti                                     0\n",
      "cr                                     0\n",
      "va                                     0\n",
      "mo                                     0\n",
      "dtype: int64\n"
     ]
    }
   ],
   "source": [
    "y = df1.replace('^\\*+$', np.NaN, regex=True)\n",
    "print(y.isnull().sum())\n",
    "#thickness profile has 438 specific values."
   ]
  },
  {
   "cell_type": "code",
   "execution_count": 19,
   "metadata": {},
   "outputs": [
    {
     "data": {
      "text/plain": [
       "<AxesSubplot:xlabel='Thickness', ylabel='label'>"
      ]
     },
     "execution_count": 19,
     "metadata": {},
     "output_type": "execute_result"
    },
    {
     "data": {
      "image/png": "[encoded data removed]",
      "text/plain": [
       "<Figure size 720x432 with 1 Axes>"
      ]
     },
     "metadata": {
      "needs_background": "light"
     },
     "output_type": "display_data"
    }
   ],
   "source": [
    "#visualization data\n",
    "fig = plt.figure(figsize = (10,6))\n",
    "sns.barplot(x = df1['Thickness'], y = df2['label'])"
   ]
  },
  {
   "cell_type": "code",
   "execution_count": 20,
   "metadata": {},
   "outputs": [
    {
     "data": {
      "text/plain": [
       "<AxesSubplot:xlabel='label', ylabel='count'>"
      ]
     },
     "execution_count": 20,
     "metadata": {},
     "output_type": "execute_result"
    },
    {
     "data": {
      "image/png": "[encoded data removed]",
      "text/plain": [
       "<Figure size 432x288 with 1 Axes>"
      ]
     },
     "metadata": {
      "needs_background": "light"
     },
     "output_type": "display_data"
    }
   ],
   "source": [
    "sns.countplot(df2['label'])"
   ]
  },
  {
   "cell_type": "code",
   "execution_count": 168,
   "metadata": {},
   "outputs": [
    {
     "data": {
      "text/plain": [
       "array(['analyse', 'Hardness_1', 'Hardness_2', 'Width',\n",
       "       'Temperature before finishing mill',\n",
       "       'Temperature after finishing mill', 'Thickness',\n",
       "       'Thickness profile', 'c', 'mn', 'si', 'nb', 'p', 's', 'al', 'ma',\n",
       "       'b', 'n', 'ti', 'cr', 'va', 'mo'], dtype=object)"
      ]
     },
     "execution_count": 168,
     "metadata": {},
     "output_type": "execute_result"
    }
   ],
   "source": [
    "df1.columns[3:].to_numpy()"
   ]
  },
  {
   "cell_type": "code",
   "execution_count": 51,
   "metadata": {},
   "outputs": [
    {
     "data": {
      "image/png": "[encoded data removed]",
      "text/plain": [
       "<Figure size 1440x720 with 6 Axes>"
      ]
     },
     "metadata": {
      "needs_background": "light"
     },
     "output_type": "display_data"
    }
   ],
   "source": [
    "#Distribution of features\n",
    "feature_cols=df1.columns[4:10].to_numpy()\n",
    "plt.figure(figsize=(20,10))\n",
    "for i,col in enumerate(feature_cols):\n",
    "    plt.subplot(2,3,i+1)\n",
    "    sns.histplot(data=df1,x=col,kde=True,element='step',color='#EC407A')\n",
    "    plt.title(f\"Distribution of {col}\")\n",
    "plt.tight_layout()\n",
    "plt.show()"
   ]
  },
  {
   "cell_type": "code",
   "execution_count": 38,
   "metadata": {},
   "outputs": [],
   "source": [
    "# machine learning\n",
    "from sklearn.linear_model import LogisticRegression\n",
    "from sklearn.svm import SVC, LinearSVC\n",
    "from sklearn.ensemble import RandomForestClassifier\n",
    "from sklearn.neighbors import KNeighborsClassifier\n",
    "from sklearn.naive_bayes import GaussianNB\n",
    "from sklearn.linear_model import Perceptron\n",
    "from sklearn.linear_model import SGDClassifier\n",
    "from sklearn.tree import DecisionTreeClassifier\n",
    "import seaborn as sns\n",
    "import matplotlib.pyplot as plt\n",
    "%matplotlib inline\n",
    "from sklearn.model_selection import train_test_split"
   ]
  },
  {
   "cell_type": "code",
   "execution_count": null,
   "metadata": {},
   "outputs": [],
   "source": [
    "Classification"
   ]
  },
  {
   "cell_type": "code",
   "execution_count": null,
   "metadata": {},
   "outputs": [],
   "source": [
    "\n",
    "import seaborn as sns\n",
    "from imblearn.under_sampling import RandomUnderSampler\n",
    "from sklearn.preprocessing import MinMaxScaler\n",
    "import pandas as pd\n",
    "#X=pd.concat([df1.iloc[:,4:10], df1.iloc[:,11:14], df1.iloc[:,15:19], df1.iloc[:,20:25]],axis=1)\n",
    "X=pd.concat([df1.iloc[:,4:10], df1.iloc[:,11:14]],axis=1)\n",
    "y=df2.iloc[:,1]\n",
    "\n",
    "#UNDERSAMPLING\n",
    "\n",
    "rus = RandomUnderSampler(random_state=0)\n",
    "X_resampled, y_resampled = rus.fit_resample(X, y)\n",
    "\n",
    "print(X_resampled.shape)\n",
    "print(y_resampled.shape)\n",
    "\n",
    "scaler = MinMaxScaler()\n",
    " \n",
    "df_scaled = scaler.fit_transform(X.to_numpy())\n",
    "df_norm = (X-X.min())/(X.max()-X.min())\n",
    "df1.iloc[:,12:]\n",
    "\n",
    "\n"
   ]
  },
  {
   "cell_type": "code",
   "execution_count": 68,
   "metadata": {},
   "outputs": [],
   "source": [
    "## Split Data\n"
   ]
  },
  {
   "cell_type": "code",
   "execution_count": 69,
   "metadata": {},
   "outputs": [
    {
     "name": "stdout",
     "output_type": "stream",
     "text": [
      "(9446, 9) (9446,)\n",
      "(2362, 9) (2362,)\n"
     ]
    }
   ],
   "source": [
    "# Split dataframe into random train and test subsets\n",
    "from sklearn.model_selection import train_test_split\n",
    "\n",
    "X_train, X_test, Y_train, Y_test = train_test_split(\n",
    "    X_resampled,\n",
    "    y_resampled, \n",
    "    test_size = 0.2,\n",
    "    random_state=35\n",
    ")\n",
    "\n",
    "print(X_train.shape, Y_train.shape)\n",
    "print(X_test.shape, Y_test.shape)"
   ]
  },
  {
   "cell_type": "code",
   "execution_count": 53,
   "metadata": {},
   "outputs": [
    {
     "data": {
      "text/plain": [
       "77.52"
      ]
     },
     "execution_count": 53,
     "metadata": {},
     "output_type": "execute_result"
    }
   ],
   "source": [
    "#Decision Tree classification\n",
    "decision_tree = DecisionTreeClassifier() \n",
    "decision_tree = decision_tree.fit(X_train, Y_train)\n",
    "\n",
    "acc_decision_tree = round(decision_tree.score(X_test, Y_test) * 100, 2)\n",
    "acc_decision_tree"
   ]
  },
  {
   "cell_type": "code",
   "execution_count": 66,
   "metadata": {},
   "outputs": [
    {
     "name": "stdout",
     "output_type": "stream",
     "text": [
      "Classification Report on Train Data \n",
      "\n",
      "               precision    recall  f1-score   support\n",
      "\n",
      "           0       0.77      0.78      0.77      1152\n",
      "           1       0.79      0.77      0.78      1210\n",
      "\n",
      "    accuracy                           0.78      2362\n",
      "   macro avg       0.78      0.78      0.78      2362\n",
      "weighted avg       0.78      0.78      0.78      2362\n",
      "\n"
     ]
    }
   ],
   "source": [
    "# Classification Report on train data set\n",
    "from sklearn.metrics import classification_report, confusion_matrix\n",
    "y_pred_tst = decision_tree.predict(X_test)\n",
    "print('Classification Report on Train Data','\\n\\n',classification_report(Y_test,y_pred_tst))"
   ]
  },
  {
   "cell_type": "code",
   "execution_count": 62,
   "metadata": {},
   "outputs": [
    {
     "data": {
      "text/plain": [
       "array([[896, 256],\n",
       "       [275, 935]], dtype=int64)"
      ]
     },
     "execution_count": 62,
     "metadata": {},
     "output_type": "execute_result"
    }
   ],
   "source": [
    "confusion_matrix(Y_test,y_pred_tst)"
   ]
  },
  {
   "cell_type": "code",
   "execution_count": 75,
   "metadata": {},
   "outputs": [
    {
     "data": {
      "image/png": "[encoded data removed]",
      "text/plain": [
       "<Figure size 432x288 with 2 Axes>"
      ]
     },
     "metadata": {
      "needs_background": "light"
     },
     "output_type": "display_data"
    }
   ],
   "source": [
    "#visualize confusion_matrix\n",
    "from sklearn.metrics import confusion_matrix, ConfusionMatrixDisplay\n",
    "cm = confusion_matrix(Y_test,y_pred_tst)\n",
    "cmd = ConfusionMatrixDisplay(cm, display_labels=['Normal','Constriction'])\n",
    "cmd.plot()\n",
    "\n",
    "## Display the visualization of the Confusion Matrix.\n",
    "plt.show()"
   ]
  },
  {
   "cell_type": "code",
   "execution_count": null,
   "metadata": {},
   "outputs": [],
   "source": [
    "from sklearn import tree\n",
    "tree.plot_tree(decision_tree)\n",
    "[...]"
   ]
  },
  {
   "cell_type": "code",
   "execution_count": null,
   "metadata": {},
   "outputs": [],
   "source": [
    "##Random Forest Model"
   ]
  },
  {
   "cell_type": "code",
   "execution_count": 76,
   "metadata": {},
   "outputs": [],
   "source": [
    "#RandomForest classification\n",
    "from sklearn.ensemble import RandomForestClassifier\n",
    "from sklearn.datasets import make_classification\n",
    "\n",
    "\n",
    "#X, y = make_classification(n_samples=44615, n_features=9, n_informative=9, n_redundant=0, random_state=0, shuffle=False)\n",
    "rf = RandomForestClassifier(max_depth=30, random_state=0, class_weight={0:1,1:20})\n",
    "rf.fit(X_train, Y_train)\n",
    "rf_predict=rf.predict(X_test)"
   ]
  },
  {
   "cell_type": "code",
   "execution_count": 81,
   "metadata": {},
   "outputs": [
    {
     "name": "stdout",
     "output_type": "stream",
     "text": [
      "[[ 927  225]\n",
      " [ 176 1034]]\n",
      "83.02286198137172\n"
     ]
    }
   ],
   "source": [
    "#confusion matrix and accuracy score\n",
    "from sklearn.metrics import confusion_matrix, accuracy_score\n",
    "\n",
    "rf_conf_matrix = confusion_matrix(Y_test, rf_predict)\n",
    "rf_acc_score = accuracy_score(Y_test, rf_predict)\n",
    "print(rf_conf_matrix)\n",
    "print(rf_acc_score*100)"
   ]
  },
  {
   "cell_type": "code",
   "execution_count": 83,
   "metadata": {},
   "outputs": [
    {
     "data": {
      "text/plain": [
       "<sklearn.metrics._plot.confusion_matrix.ConfusionMatrixDisplay at 0x1d15e8f8f70>"
      ]
     },
     "execution_count": 83,
     "metadata": {},
     "output_type": "execute_result"
    },
    {
     "data": {
      "image/png": "[encoded data removed]",
      "text/plain": [
       "<Figure size 432x288 with 2 Axes>"
      ]
     },
     "metadata": {
      "needs_background": "light"
     },
     "output_type": "display_data"
    }
   ],
   "source": [
    "from sklearn.metrics import confusion_matrix, ConfusionMatrixDisplay\n",
    "cm = confusion_matrix(Y_test,y_pred_tst)\n",
    "cmd = ConfusionMatrixDisplay(rf_conf_matrix, display_labels=['Normal','Constriction'])\n",
    "cmd.plot()"
   ]
  },
  {
   "cell_type": "code",
   "execution_count": 79,
   "metadata": {},
   "outputs": [
    {
     "name": "stdout",
     "output_type": "stream",
     "text": [
      "[[1063   89]\n",
      " [ 691  519]]\n",
      "66.97713801862828\n"
     ]
    }
   ],
   "source": [
    "from sklearn import svm\n",
    "\n",
    "#Create a svm Classifier\n",
    "clf = svm.SVC(kernel='poly') # Linear Kernel\n",
    "\n",
    "#Train the model using the training sets\n",
    "clf.fit(X_train, Y_train)\n",
    "\n",
    "#Predict the response for test dataset\n",
    "y_pred = clf.predict(X_test)\n",
    "\n",
    "rf_conf_matrix = confusion_matrix(Y_test, y_pred)\n",
    "rf_acc_score = accuracy_score(Y_test, y_pred)\n",
    "\n",
    "print(rf_conf_matrix)\n",
    "print(rf_acc_score*100)"
   ]
  }
 ],
 "metadata": {
  "interpreter": {
   "hash": "f92ba9c63fced51b16a9d8a2a7d17d868c393e230cb0c508c3b7f43d40196448"
  },
  "kernelspec": {
   "display_name": "Python 3.10.2 64-bit",
   "language": "python",
   "name": "python3"
  },
  "language_info": {
   "codemirror_mode": {
    "name": "ipython",
    "version": 3
   },
   "file_extension": ".py",
   "mimetype": "text/x-python",
   "name": "python",
   "nbconvert_exporter": "python",
   "pygments_lexer": "ipython3",
   "version": "3.10.2"
  },
  "orig_nbformat": 4
 },
 "nbformat": 4,
 "nbformat_minor": 2
}
